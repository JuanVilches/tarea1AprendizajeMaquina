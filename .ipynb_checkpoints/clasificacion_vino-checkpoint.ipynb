{
 "cells": [
  {
   "cell_type": "markdown",
   "id": "26ba054a",
   "metadata": {},
   "source": [
    "# Clasificación\n"
   ]
  },
  {
   "cell_type": "code",
   "execution_count": 3,
   "id": "643b178b",
   "metadata": {},
   "outputs": [
    {
     "name": "stdout",
     "output_type": "stream",
     "text": [
      "hola\n"
     ]
    }
   ],
   "source": [
    "print (\"hola\")"
   ]
  },
  {
   "cell_type": "markdown",
   "id": "46438688",
   "metadata": {},
   "source": [
    "#clasificación"
   ]
  },
  {
   "cell_type": "code",
   "execution_count": null,
   "id": "25679fb9",
   "metadata": {},
   "outputs": [],
   "source": []
  }
 ],
 "metadata": {
  "kernelspec": {
   "display_name": "base",
   "language": "python",
   "name": "python3"
  },
  "language_info": {
   "codemirror_mode": {
    "name": "ipython",
    "version": 3
   },
   "file_extension": ".py",
   "mimetype": "text/x-python",
   "name": "python",
   "nbconvert_exporter": "python",
   "pygments_lexer": "ipython3",
   "version": "3.12.4"
  }
 },
 "nbformat": 4,
 "nbformat_minor": 5
}
