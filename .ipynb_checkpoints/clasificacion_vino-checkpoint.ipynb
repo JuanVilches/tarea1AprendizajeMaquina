{
 "cells": [
  {
   "cell_type": "markdown",
   "id": "26ba054a",
   "metadata": {},
   "source": [
    "# Clasificación de la calidad del vino\r\n",
    "\n"
   ]
  },
  {
   "cell_type": "markdown",
   "id": "c8a22b3b-1445-444d-9dc5-f035b4c59bd1",
   "metadata": {},
   "source": [
    "- `pandas` y `numpy` para manejar tablas y operaciones numéricas.  \r\n",
    "- `matplotlib` para visualizar distribuciones.  \r\n",
    "- `StandardScaler` para normalizar características y evitar que atributos con distinto rango introduzcan sesgos.  \r\n",
    "- `SMOTE` de `imbalanced-learn` para generar muestras sintéticas de la clase minoritaria y equilibrar el dataset."
   ]
  },
  {
   "cell_type": "code",
   "execution_count": 13,
   "id": "643b178b",
   "metadata": {},
   "outputs": [
    {
     "name": "stdout",
     "output_type": "stream",
     "text": [
      "Requirement already satisfied: imbalanced-learn in c:\\users\\juanvilches\\appdata\\local\\anaconda3\\lib\\site-packages (0.12.3)\n",
      "Requirement already satisfied: numpy>=1.17.3 in c:\\users\\juanvilches\\appdata\\local\\anaconda3\\lib\\site-packages (from imbalanced-learn) (1.26.4)\n",
      "Requirement already satisfied: scipy>=1.5.0 in c:\\users\\juanvilches\\appdata\\local\\anaconda3\\lib\\site-packages (from imbalanced-learn) (1.13.1)\n",
      "Requirement already satisfied: scikit-learn>=1.0.2 in c:\\users\\juanvilches\\appdata\\local\\anaconda3\\lib\\site-packages (from imbalanced-learn) (1.4.2)\n",
      "Requirement already satisfied: joblib>=1.1.1 in c:\\users\\juanvilches\\appdata\\local\\anaconda3\\lib\\site-packages (from imbalanced-learn) (1.4.2)\n",
      "Requirement already satisfied: threadpoolctl>=2.0.0 in c:\\users\\juanvilches\\appdata\\local\\anaconda3\\lib\\site-packages (from imbalanced-learn) (2.2.0)\n"
     ]
    }
   ],
   "source": [
    "!pip install imbalanced-learn\n",
    "# ╔═ Paso 0: Imports ════════════════════════════════════════════════════\n",
    "import pandas as pd\n",
    "import numpy as np\n",
    "import matplotlib.pyplot as plt\n",
    "from sklearn.model_selection import train_test_split, GridSearchCV\n",
    "from sklearn.preprocessing import StandardScaler\n",
    "from sklearn.ensemble import RandomForestClassifier\n",
    "from sklearn.metrics import classification_report, confusion_matrix\n",
    "from imblearn.over_sampling import SMOTE\n",
    "# Celda 1: Instalar imbalanced-learn\n"
   ]
  },
  {
   "cell_type": "markdown",
   "id": "772b93b7-3bc9-425f-9812-3670eb4e7999",
   "metadata": {},
   "source": [
    "# Carga de datos\n",
    "Leer el CSV local `winequality-red.csv` (que contiene 11 atributos fisicoquímicos y una columna `quality`) para comenzar el análisis."
   ]
  },
  {
   "cell_type": "code",
   "execution_count": 4,
   "id": "25679fb9",
   "metadata": {},
   "outputs": [
    {
     "name": "stdout",
     "output_type": "stream",
     "text": [
      "Shape inicial: (1599, 12)\n"
     ]
    },
    {
     "data": {
      "text/html": [
       "<div>\n",
       "<style scoped>\n",
       "    .dataframe tbody tr th:only-of-type {\n",
       "        vertical-align: middle;\n",
       "    }\n",
       "\n",
       "    .dataframe tbody tr th {\n",
       "        vertical-align: top;\n",
       "    }\n",
       "\n",
       "    .dataframe thead th {\n",
       "        text-align: right;\n",
       "    }\n",
       "</style>\n",
       "<table border=\"1\" class=\"dataframe\">\n",
       "  <thead>\n",
       "    <tr style=\"text-align: right;\">\n",
       "      <th></th>\n",
       "      <th>fixed acidity</th>\n",
       "      <th>volatile acidity</th>\n",
       "      <th>citric acid</th>\n",
       "      <th>residual sugar</th>\n",
       "      <th>chlorides</th>\n",
       "      <th>free sulfur dioxide</th>\n",
       "      <th>total sulfur dioxide</th>\n",
       "      <th>density</th>\n",
       "      <th>pH</th>\n",
       "      <th>sulphates</th>\n",
       "      <th>alcohol</th>\n",
       "      <th>quality</th>\n",
       "    </tr>\n",
       "  </thead>\n",
       "  <tbody>\n",
       "    <tr>\n",
       "      <th>0</th>\n",
       "      <td>7.4</td>\n",
       "      <td>0.70</td>\n",
       "      <td>0.00</td>\n",
       "      <td>1.9</td>\n",
       "      <td>0.076</td>\n",
       "      <td>11.0</td>\n",
       "      <td>34.0</td>\n",
       "      <td>0.9978</td>\n",
       "      <td>3.51</td>\n",
       "      <td>0.56</td>\n",
       "      <td>9.4</td>\n",
       "      <td>5</td>\n",
       "    </tr>\n",
       "    <tr>\n",
       "      <th>1</th>\n",
       "      <td>7.8</td>\n",
       "      <td>0.88</td>\n",
       "      <td>0.00</td>\n",
       "      <td>2.6</td>\n",
       "      <td>0.098</td>\n",
       "      <td>25.0</td>\n",
       "      <td>67.0</td>\n",
       "      <td>0.9968</td>\n",
       "      <td>3.20</td>\n",
       "      <td>0.68</td>\n",
       "      <td>9.8</td>\n",
       "      <td>5</td>\n",
       "    </tr>\n",
       "    <tr>\n",
       "      <th>2</th>\n",
       "      <td>7.8</td>\n",
       "      <td>0.76</td>\n",
       "      <td>0.04</td>\n",
       "      <td>2.3</td>\n",
       "      <td>0.092</td>\n",
       "      <td>15.0</td>\n",
       "      <td>54.0</td>\n",
       "      <td>0.9970</td>\n",
       "      <td>3.26</td>\n",
       "      <td>0.65</td>\n",
       "      <td>9.8</td>\n",
       "      <td>5</td>\n",
       "    </tr>\n",
       "    <tr>\n",
       "      <th>3</th>\n",
       "      <td>11.2</td>\n",
       "      <td>0.28</td>\n",
       "      <td>0.56</td>\n",
       "      <td>1.9</td>\n",
       "      <td>0.075</td>\n",
       "      <td>17.0</td>\n",
       "      <td>60.0</td>\n",
       "      <td>0.9980</td>\n",
       "      <td>3.16</td>\n",
       "      <td>0.58</td>\n",
       "      <td>9.8</td>\n",
       "      <td>6</td>\n",
       "    </tr>\n",
       "    <tr>\n",
       "      <th>4</th>\n",
       "      <td>7.4</td>\n",
       "      <td>0.70</td>\n",
       "      <td>0.00</td>\n",
       "      <td>1.9</td>\n",
       "      <td>0.076</td>\n",
       "      <td>11.0</td>\n",
       "      <td>34.0</td>\n",
       "      <td>0.9978</td>\n",
       "      <td>3.51</td>\n",
       "      <td>0.56</td>\n",
       "      <td>9.4</td>\n",
       "      <td>5</td>\n",
       "    </tr>\n",
       "  </tbody>\n",
       "</table>\n",
       "</div>"
      ],
      "text/plain": [
       "   fixed acidity  volatile acidity  citric acid  residual sugar  chlorides  \\\n",
       "0            7.4              0.70         0.00             1.9      0.076   \n",
       "1            7.8              0.88         0.00             2.6      0.098   \n",
       "2            7.8              0.76         0.04             2.3      0.092   \n",
       "3           11.2              0.28         0.56             1.9      0.075   \n",
       "4            7.4              0.70         0.00             1.9      0.076   \n",
       "\n",
       "   free sulfur dioxide  total sulfur dioxide  density    pH  sulphates  \\\n",
       "0                 11.0                  34.0   0.9978  3.51       0.56   \n",
       "1                 25.0                  67.0   0.9968  3.20       0.68   \n",
       "2                 15.0                  54.0   0.9970  3.26       0.65   \n",
       "3                 17.0                  60.0   0.9980  3.16       0.58   \n",
       "4                 11.0                  34.0   0.9978  3.51       0.56   \n",
       "\n",
       "   alcohol  quality  \n",
       "0      9.4        5  \n",
       "1      9.8        5  \n",
       "2      9.8        5  \n",
       "3      9.8        6  \n",
       "4      9.4        5  "
      ]
     },
     "execution_count": 4,
     "metadata": {},
     "output_type": "execute_result"
    }
   ],
   "source": [
    "# ╔═ Paso 1: Carga de datos ═════════════════════════════════════════════\n",
    "# Cargamos localmente el CSV separado por punto y coma\n",
    "df = pd.read_csv(\"winequality-red.csv\", sep=';')\n",
    "print(f\"Shape inicial: {df.shape}\")\n",
    "df.head()"
   ]
  },
  {
   "cell_type": "markdown",
   "id": "c0e81e5f-a47e-45a3-b5b8-f98c0d8aba1a",
   "metadata": {},
   "source": [
    "Leemos directamente `winequality-red.csv`, que contiene 1 599 muestras y 12 columnas (11 atributos fisicoquímicos + `quality`) .ar\r\n"
   ]
  },
  {
   "cell_type": "markdown",
   "id": "f8af9a0c-7036-4c5e-a6d6-6181df83e1e7",
   "metadata": {},
   "source": [
    "## Visualización de la distribución original de `quality`\n",
    "Antes de transformar o balancear, es crucial entender la frecuencia de cada valor de calidad para detectar posibles sesgos o desequilibrios iniciales..\r\n"
   ]
  },
  {
   "cell_type": "code",
   "execution_count": 51,
   "id": "8b0ecf20-a959-4962-85ce-033194f8b89b",
   "metadata": {},
   "outputs": [
    {
     "data": {
      "image/png": "[encoded data removed]",
      "text/plain": [
       "<Figure size 640x480 with 1 Axes>"
      ]
     },
     "metadata": {},
     "output_type": "display_data"
    }
   ],
   "source": [
    "# ╔═ Paso 2: Visualización de la distribución original de 'quality' ══════\n",
    "counts = df['quality'].value_counts().sort_index()\n",
    "plt.figure()\n",
    "bars = plt.bar(counts.index, counts.values)\n",
    "plt.xlabel('Quality')\n",
    "plt.ylabel('Conteo')\n",
    "plt.title('Distribución original de Quality')\n",
    "for bar in bars:\n",
    "    height = bar.get_height()\n",
    "    plt.annotate(\n",
    "        f'{height}',\n",
    "        xy=(bar.get_x() + bar.get_width()/2, height),\n",
    "        xytext=(0, 3),\n",
    "        textcoords=\"offset points\",\n",
    "        ha='center',\n",
    "        va='bottom'\n",
    "    )\n",
    "plt.show()"
   ]
  },
  {
   "cell_type": "markdown",
   "id": "a12691a1-6dea-41c4-8184-0694d121b4bf",
   "metadata": {},
   "source": [
    "## Binarización de la calidad y visualización de clases\n",
    "Transformamos `quality` en una etiqueta binaria:\r\n",
    "- **Mala** si qualit < 7 \r\n",
    "- **Buena** si quali ≥ 7  \r\n",
    "\r\n",
    "Esto permite plantear un problema de clasificación binaria y visualizar el desequilibrio entre “Mala” y “Bue Elejimos 7 arbitrariamente como umbral ya que nos ayudaria a trabajar con ajuste de parámetros de los modelos.na”."
   ]
  },
  {
   "cell_type": "code",
   "execution_count": 73,
   "id": "f3967fb3-70ad-4cd5-8c9e-0880be5f7fae",
   "metadata": {},
   "outputs": [
    {
     "data": {
      "image/png": "[encoded data removed]",
      "text/plain": [
       "<Figure size 640x480 with 1 Axes>"
      ]
     },
     "metadata": {},
     "output_type": "display_data"
    }
   ],
   "source": [
    "# ╔═ Paso 3: Etiquetado binario y visualización de clases ═══════════════\n",
    "# 3.1 Limpiar duplicados (una sola vez)\n",
    "df = df.drop_duplicates().reset_index(drop=True)\n",
    "# Asigna una nueva columna 'quality_label' al DataFrame:\n",
    "# Para cada valor q en df['quality'], etiqueta como 'Buena' si q ≥ 7, \n",
    "# o 'Mala' en caso contrario.\n",
    "df['quality_label'] = df['quality'].apply(lambda q: 'Buena' if q >= 7 else 'Mala')\n",
    "\n",
    "# Cuenta cuántos vinos hay de cada clase y las reordena para que aparezca 'Mala' primero\n",
    "counts = df['quality_label'].value_counts().reindex(['Mala','Buena'])\n",
    "# Crea una nueva figura de matplotlib\n",
    "plt.figure()\n",
    "# Dibuja un gráfico de barras con las clases en el eje X y sus cantidades en el eje Y\n",
    "bars = plt.bar(counts.index, counts.values)\n",
    "plt.xlabel('Clase de calidad')\n",
    "plt.ylabel('Cantidad de vinos')\n",
    "plt.title('Distribución de vinos por clase de calidad')\n",
    "# Añade la etiqueta numérica encima de cada barra\n",
    "for bar in bars:\n",
    "    h = bar.get_height()\n",
    "    plt.annotate(\n",
    "        f'{h}',\n",
    "        xy=(bar.get_x() + bar.get_width()/2, h),\n",
    "        xytext=(0, 3),\n",
    "        textcoords='offset points',\n",
    "        ha='center',\n",
    "        va='bottom'\n",
    "    )\n",
    "plt.show()"
   ]
  },
  {
   "cell_type": "markdown",
   "id": "30d5fe50-6fa7-47cc-b43d-94ca741268df",
   "metadata": {},
   "source": [
    "De la visualización anterior podemos observar que el conjunto de datos está sesgado o desequilibrado.\n",
    "Cuando el conjunto de datos está muy desequilibrado (1175 vinos “Mala” vs. 184 “Buena”), los clasificadores tienden a:\n",
    "\n",
    "- Aprender sobre todo la clase mayoritaria\n",
    "Acumulan mucho más “experiencia” reconociendo vinos de calidad baja y prácticamente “ignoran” la clase minoritaria, ofreciendo alta precisión global a costa de una pésima capacidad para detectar vinos buenos.\n",
    "\n",
    "- Obtener métricas engañosas\n",
    "Podrías lograr un 85 % de “exactitud” simplemente prediciendo siempre “Mala”, pero eso no vale si tu objetivo es identificar correctamente los vinos de calidad (“Buena”).\n",
    "\n",
    "- Sobreajustarse al escaso número de ejemplos minoritarios\n",
    "Si replicas las 184 muestras “Buenas” tal cual (oversampling “básico”), tu modelo puede aprender patrones demasiado específicos de esas pocas instancias y no generalizar."
   ]
  },
  {
   "cell_type": "markdown",
   "id": "426c2442-ec06-42d0-bea3-1c7b5eb27686",
   "metadata": {},
   "source": [
    "## Paso 4: Remuestreo con SMOTE y Preparación de Conjuntos\r\n",
    "\r\n",
    "1. **4.1 Crear etiqueta numérica**  \r\n",
    "   Convertimos `quality` en `quality_label_num` (`0` = Mala, `1` = Buena) para tener un vector de etiquetas numéricas que SMOTE pueda procesar.\r\n",
    "\r\n",
    "2. **4.2 Seleccionar características y etiqueta**  \r\n",
    "   Eliminamos las columnas de salida (`quality`, `quality_label`, `quality_label_num`) de `df` para obtener `X` (matriz de predictores) y extraemos `y = df['quality_label_num']`.\r\n",
    "\r\n",
    "3. **4.3 División en entrenamiento/prueba**  \r\n",
    "   Usamos `train_test_split` con `test_size=0.20` (20 %) y `stratify=y_res` para:  \r\n",
    "   - Tener el 80 % de los datos en `X_train, y_train` (entrenamiento).  \r\n",
    "   - Reservar el 20 % en `X_test, y_test` para evaluar el modelo con datos “nunca vistos”.  \r\n",
    "   - Mantener la misma proporción de clases en ambos conjuntos.\r\n",
    "\r\n",
    "4. **4.4 Escalado de características**  \r\n",
    "   Ajustamos `StandardScaler` **solo** sobre `X_train` para calcular media y desviación estándar, y luego transformamos tanto `X_train` como `X_test`.  \r\n",
    "   - Evita filtrar información del test al train y asegura que todas las variables tengan media 0 y σ 1.\r\n",
    "\r\n",
    "5. **4.5 Remuestreo SMOTE en entrenamiento**  \r\n",
    "   Aplicamos SMOTE **solo** sobre `X_train, y_train`:  \r\n",
    "   - Interpola nuevos ejemplos sintéticos de la clase minoritaria (“Buena”) a partir de sus vecinos euclidianos.  \r\n",
    "   - Equilibra ambos grupos sin duplicar registros, mejorando la capacidad del modelo para aprender patrones de las dos clases.\r\n",
    "\r\n",
    "6. **4.6 Visualización de la distribución tras SMOTE**  \r\n",
    "   Contamos las etiquetas en `y_train` remuestreado y dibujamos un gráfico de barras para verificar que ahora hay igual número de muestras “Mala” y “Buena” en el conjunto de entrenamiento.ar\r\n",
    "del"
   ]
  },
  {
   "cell_type": "code",
   "execution_count": 75,
   "id": "845943e0-b241-436b-be33-3d829355d090",
   "metadata": {},
   "outputs": [
    {
     "data": {
      "image/png": "[encoded data removed]",
      "text/plain": [
       "<Figure size 640x480 with 1 Axes>"
      ]
     },
     "metadata": {},
     "output_type": "display_data"
    }
   ],
   "source": [
    "# ╔═ Paso 4: Remuestreo con SMOTE ════════════════════════════════════════\n",
    "\n",
    "#Toma la columna quality (valores enteros 3–8) y la convierte en un vector de valores booleanos: True si quality ≥ 7, False en caso contrario.\n",
    "#Luego .astype(int) transforma esos True/False en 1/0, almacenándolos en la nueva columna quality_label_num.\n",
    "df['quality_label_num'] = (df['quality'] >= 7).astype(int)\n",
    "\n",
    "# 4.2 Seleccionar características y escalar\n",
    "#Elimina del DataFrame las columnas relacionadas con la variable objetivo.\n",
    "#El resultado, X, es una matriz sólo con las características predictoras (pH, alcohol, densidad, etc.).\n",
    "X = df.drop(['quality', 'quality_label', 'quality_label_num'], axis=1) \n",
    "y = df['quality_label_num']\n",
    "\n",
    "\n",
    "# 4.3 División en entrenamiento/prueba (20 % test)\n",
    "X_train, X_test, y_train, y_test = train_test_split(\n",
    "    X_res,          # Matriz de características remuestreadas (SMOTE)\n",
    "    y_res,          # Vector de etiquetas remuestreadas (0=Mala, 1=Buena)\n",
    "    test_size=0.20, # Proporción de datos que se reservarán para prueba (20 %)\n",
    "    random_state=42,# Semilla para asegurar reproducibilidad del muestreo\n",
    "    stratify=y_res  # Estratificar muestreo según y_res para mantener proporciones de clases (misma cantidad de clase buen y mala)\n",
    ")\n",
    "\n",
    "# 4.4 Escalado de características\n",
    "# Crea un escalador que normaliza cada variable (media 0, desviación estándar 1), logrando que todas las características estén en la misma escala para mejorar la comparabilidad y la convergencia de los algoritmos basados en distancia\n",
    "scaler = StandardScaler()\n",
    "\n",
    "# 4.5 Remuestreo SMOTE sólo en entrenamiento\n",
    "#  - SMOTE crea nuevos puntos interpolando vecinos por distancia euclídea (distancia en linea recta entre dos puntos).\n",
    "#  - Si las variables tienen rangos muy distintos, las de gran escala dominarían la métrica.\n",
    "#  - StandardScaler centra cada variable en media 0 y desviación 1, equilibrando su contribución.\n",
    "\n",
    "# SMOTE nos ayudará a equilibrar el dataset creando nuevas muestras sintéticas “entre” ejemplos reales de la clase minoritaria.\n",
    "smote = SMOTE(random_state=42)\n",
    "X_train, y_train = smote.fit_resample(X_train, y_train)\n",
    "\n",
    "# 4.6 Graficar distribución tras SMOTE en train\n",
    "# Convierte el vector y_res en Serie de pandas, cuenta cuántas muestras hay de cada etiqueta (0 y 1)\n",
    "# y reordena el índice para asegurarse de que primero aparezca la clase 0 y luego la clase 1\n",
    "res_counts = pd.Series(y_res).value_counts().reindex([0,1])\n",
    "plt.figure()\n",
    "bars = plt.bar(['Mala','Buena'], res_counts.values)\n",
    "plt.xlabel('Clase de calidad')\n",
    "plt.ylabel('Cantidad de muestras (train)')\n",
    "plt.title('Distribución tras aplicar SMOTE en entrenamiento')\n",
    "for bar in bars:\n",
    "    h = bar.get_height()\n",
    "    plt.annotate(\n",
    "        f'{h}',\n",
    "        xy=(bar.get_x() + bar.get_width()/2, h),\n",
    "        xytext=(0, 3),\n",
    "        textcoords='offset points',\n",
    "        ha='center',\n",
    "        va='bottom'\n",
    "    )\n",
    "plt.show()\n"
   ]
  },
  {
   "cell_type": "markdown",
   "id": "4ab05883-0612-4fc8-a87a-782795506364",
   "metadata": {},
   "source": [
    "# Modelo de entrenamiento\n",
    "**Random Forest** es un método de ensamblado que construye decenas o cientos de árboles de decisión sobre diferentes muestras bootstrap del conjunto de entrenamiento y combina sus predicciones por votación mayoritaria. Cada árbol elige ramificaciones basadas en subconjuntos aleatorios de características, lo que reduce el sobreajuste y hace al modelo robusto frente al ruido y a valores atípicos. En nuestro caso, con once variables fisicoquímicas que pueden presentar interacciones no lineales y una ligera desproporción de clases balanceada por SMOTE, Random Forest captura complejas fronteras de decisión sin asumir linealidad, tolera bien las mediciones ruidosas del vino escalado y, al promediar sus árboles, ofrece resultados estables, además de proporcionar métricas de importancia de cada atributo para interpretar qué factores determinan mejor la calidad del vino.  \r\n",
    "es."
   ]
  },
  {
   "cell_type": "code",
   "execution_count": 81,
   "id": "49186f01-b22d-432b-9997-bf623395c0ac",
   "metadata": {},
   "outputs": [
    {
     "name": "stdout",
     "output_type": "stream",
     "text": [
      "=== Reporte de Clasificación ===\n",
      "              precision    recall  f1-score   support\n",
      "\n",
      "        Mala       0.95      0.90      0.93       235\n",
      "       Buena       0.91      0.95      0.93       235\n",
      "\n",
      "    accuracy                           0.93       470\n",
      "   macro avg       0.93      0.93      0.93       470\n",
      "weighted avg       0.93      0.93      0.93       470\n",
      "\n"
     ]
    },
    {
     "data": {
      "image/png": "[encoded data removed]",
      "text/plain": [
       "<Figure size 500x400 with 2 Axes>"
      ]
     },
     "metadata": {},
     "output_type": "display_data"
    }
   ],
   "source": [
    "# ╔═ Paso 5: Entrenamiento y evaluación del modelo Random Forest ════════\n",
    "# 5.1 Instanciar el clasificador\n",
    "rf = RandomForestClassifier(random_state=42)\n",
    "\n",
    "# 5.2 Ajustar (fit) el modelo sobre el conjunto de entrenamiento\n",
    "rf.fit(X_train, y_train)\n",
    "\n",
    "# 5.3 Predecir etiquetas en el conjunto de prueba\n",
    "y_pred = rf.predict(X_test)\n",
    "\n",
    "# 5.4 Mostrar reporte de clasificación (precisión, recall, F1)\n",
    "print(\"=== Reporte de Clasificación ===\")\n",
    "print(classification_report(y_test, y_pred, target_names=['Mala','Buena']))\n",
    "\n",
    "# 5.5 Matriz de confusión\n",
    "cm = confusion_matrix(y_test, y_pred)\n",
    "plt.figure(figsize=(5,4))\n",
    "plt.imshow(cm, cmap='Blues')\n",
    "plt.title(\"Matriz de Confusión\")\n",
    "plt.colorbar()\n",
    "plt.xticks([0,1], ['Mala','Buena'])\n",
    "plt.yticks([0,1], ['Mala','Buena'])\n",
    "for i in range(2):\n",
    "    for j in range(2):\n",
    "        plt.text(j, i, cm[i,j], ha='center', va='center', color='black')\n",
    "plt.xlabel('Predicción')\n",
    "plt.ylabel('Etiqueta Real')\n",
    "plt.show()\n"
   ]
  },
  {
   "cell_type": "markdown",
   "id": "ff0f4828-1de9-41ab-8884-5bf22c817ed2",
   "metadata": {},
   "source": [
    "**Reporte de Clasificación**\n",
    "\n",
    "El reporte de clasificación muestra el desempeño del modelo tanto por clase como de manera global:\n",
    "\n",
    "#### Métricas por clase\n",
    "\n",
    "- **Mala** (235 muestras reales)  \n",
    "  - **Precision = 0.95**  \n",
    "    De todas las veces que el modelo predijo “Mala”, el 95 % eran realmente malas.  \n",
    "  - **Recall = 0.90**  \n",
    "    De todas las muestras que eran efectivamente malas, el modelo detectó correctamente el 90 %.  \n",
    "  - **F1-score = 0.93**  \n",
    "    Media armónica entre precision y recall, reflejando un buen equilibrio entre ambas.  \n",
    "\n",
    "- **Buena** (235 muestras reales)  \n",
    "  - **Precision = 0.91**  \n",
    "    De todas las veces que el modelo predijo “Buena”, el 91 % eran realmente buenas.  \n",
    "  - **Recall = 0.95**  \n",
    "    De todas las muestras que eran efectivamente buenas, el modelo detectó correctamente el 95 %.  \n",
    "  - **F1-score = 0.93**  \n",
    "    Balance entre precision y recall para la clase “Buena”.  \n",
    "\n",
    "#### Métricas globales\n",
    "\n",
    "- **Accuracy = 0.93**  \n",
    "  El 93 % de todas las predicciones (470 muestras) fueron correctas.\n",
    "\n",
    "- **Macro avg** (media sin ponderar de ambas clases):  \n",
    "  - Precision: 0.93  \n",
    "  - Recall:    0.93  \n",
    "  - F1-score:  0.93  \n",
    "  - Support:   470  \n",
    "\n",
    "- **Weighted avg** (media ponderada por el número de muestras de cada clase):  \n",
    "  - Precision: 0.93  \n",
    "  - Recall:    0.93  \n",
    "  - F1-score:  0.93  \n",
    "  - Support:   470  \n",
    "\n",
    "**Interpretación general:**  \n",
    "Estas métricas indican que el modelo equilibra muy bien la detección de vinos “Mala” y “Buena”, con alta precisión y cobertura en ambas clases, y sin sesgos hacia ninguna en particular."
   ]
  },
  {
   "cell_type": "markdown",
   "id": "d52589aa-a943-4403-b0da-83722d2bf66e",
   "metadata": {},
   "source": [
    "### Resumen de la predicción del modelo\n",
    "\n",
    "El **Random Forest** entrenado sobre los datos remuestreados con SMOTE y escalados logró una **exactitud global (accuracy) del 93 %** en el conjunto de prueba (470 muestras). Ambos grupos, vinos de “Mala” y “Buena” calidad, se clasificaron con un **F1-score de 0.93**, mostrando un excelente equilibrio entre precisión y cobertura.  \n",
    "- El modelo identificó correctamente el **90 %** de los vinos “Mala” (recall) y, cuando predijo “Mala”, acertó el **95 %** de las veces (precision).  \n",
    "- Para los vinos “Buena”, el recall fue del **95 %** y la precision del **91 %**, lo que indica que el modelo es ligeramente más conservador al etiquetar como “Buena” pero capta casi todos los casos verdaderos.  \n",
    "- La matriz de confusión revela un número reducido de falsos positivos y falsos negativos (aprox. 24 errores en cada clase), confirmando la robustez del ensemble ante ruido y su capacidad para capturar patrones no lineales en los atributos fisicoquímicos del vino.  \n",
    "En conjunto, este desempeño demuestra que el Random Forest, con su votación mayoritaria y capacidad para manejar interacciones complejas, es muy eficaz para discriminar la calidad del vino en este dataset.  \n"
   ]
  },
  {
   "cell_type": "markdown",
   "id": "abd637a7-51af-44f3-911c-2e04442b5882",
   "metadata": {},
   "source": [
    "## Ajuste de hiperparámetros\n",
    "\n",
    "El ajuste de hiperparámetros consiste en explorar distintas combinaciones de valores para parámetros clave del modelo (por ejemplo, número de árboles, profundidad máxima, número de variables consideradas en cada división) con el objetivo de maximizar la métrica de interés (aquí el F1-score). Hacer este ajuste **ahora** es importante porque, tras haber preprocesado y remuestreado correctamente los datos, necesitamos encontrar la configuración óptima que aproveche al máximo la capacidad del Random Forest, evitando tanto el subajuste (underfitting) como el sobreajuste (overfitting) y garantizando el mejor desempeño en datos no vistos.\n"
   ]
  },
  {
   "cell_type": "code",
   "execution_count": 102,
   "id": "57845b92-9f00-426c-8448-50874ba148d7",
   "metadata": {},
   "outputs": [
    {
     "name": "stdout",
     "output_type": "stream",
     "text": [
      "Fitting 10 folds for each of 10 candidates, totalling 100 fits\n",
      "Mejor recall en CV: 0.9404\n",
      "Mejores parámetros: {'n_estimators': 50, 'min_samples_split': 5, 'max_depth': 10}\n"
     ]
    }
   ],
   "source": [
    "from sklearn.model_selection import RandomizedSearchCV\n",
    "# Parámetros de la cuadrícula\n",
    "rf_param_grid = {\n",
    "    'n_estimators': [50, 100, 200],\n",
    "    'max_depth': [3, 5, 10],\n",
    "    'min_samples_split': [2, 5, 10]\n",
    "}\n",
    "\n",
    "# RandomizedSearchCV optimizando recall con 10 folds y 10 iteraciones\n",
    "rf_cv = RandomizedSearchCV(\n",
    "    estimator=rf,                   # nuestro RandomForest entrenado\n",
    "    param_distributions=rf_param_grid,\n",
    "    n_iter=10,                      # número de combinaciones al azar\n",
    "    scoring='recall',               # optimizamos recall\n",
    "    cv=10,                          # 10 folds de validación\n",
    "    random_state=42,                # semilla para reproducibilidad\n",
    "    n_jobs=-1,\n",
    "    verbose=1\n",
    ")\n",
    "\n",
    "# Ajustar el modelo sobre X_train, y_train\n",
    "rf_cv.fit(X_train, y_train)\n",
    "\n",
    "# Mostrar mejores resultados\n",
    "print(f'Mejor recall en CV: {rf_cv.best_score_:.4f}')\n",
    "print(f'Mejores parámetros: {rf_cv.best_params_}')"
   ]
  },
  {
   "cell_type": "code",
   "execution_count": 106,
   "id": "fd0f75f0-a3e7-4463-9ac1-2bc00f3b2f5a",
   "metadata": {},
   "outputs": [
    {
     "name": "stdout",
     "output_type": "stream",
     "text": [
      "Fitting 10 folds for each of 20 candidates, totalling 200 fits\n",
      "Mejor recall en CV: 0.9521\n",
      "Mejores parámetros: {'n_estimators': 100, 'min_samples_split': 2, 'min_samples_leaf': 1, 'max_features': 'sqrt', 'max_depth': 20, 'class_weight': 'balanced_subsample', 'bootstrap': True}\n"
     ]
    }
   ],
   "source": [
    "# Crear instancia del clasificador Random Forest con semilla para reproducibilidad\n",
    "rf2 = RandomForestClassifier(random_state=42)\n",
    "\n",
    "# Definir el espacio ampliado de hiperparámetros para explorar\n",
    "param_dist2 = {\n",
    "    'n_estimators':    [100, 200, 300, 400],            # Número de árboles en el bosque\n",
    "    'max_depth':       [None, 10, 20, 30],              # Profundidad máxima de cada árbol\n",
    "    'min_samples_split': [2, 5, 10],                    # Min. de muestras requeridas para dividir un nodo\n",
    "    'min_samples_leaf':  [1, 2, 4],                     # Min. de muestras en cada hoja\n",
    "    'max_features':    ['sqrt', 'log2'],                # Cantidad de variables a considerar en cada división\n",
    "    'class_weight':   ['balanced', 'balanced_subsample'],  # Ponderación automática de clases\n",
    "    'bootstrap':      [True, False]                     # Si se usa muestreo con reemplazo al crear cada árbol\n",
    "}\n",
    "\n",
    "# Configurar RandomizedSearchCV para optimizar la métrica 'recall'\n",
    "rnd_search2 = RandomizedSearchCV(\n",
    "    estimator=rf2,                    # Clasificador base a optimizar\n",
    "    param_distributions=param_dist2,  # Espacio de parámetros a muestrear\n",
    "    n_iter=20,                        # Número de combinaciones aleatorias a probar\n",
    "    scoring='recall',                 # Métrica objetivo: recall de la clase positiva\n",
    "    cv=10,                            # Número de folds en validación cruzada\n",
    "    random_state=42,                  # Semilla para reproducibilidad del muestreo\n",
    "    n_jobs=-1,                        # Usar todos los núcleos de CPU disponibles\n",
    "    verbose=1                         # Mostrar progreso durante la búsqueda\n",
    ")\n",
    "\n",
    "# Ejecutar la búsqueda de hiperparámetros sobre el conjunto de entrenamiento\n",
    "rnd_search2.fit(X_train, y_train)\n",
    "\n",
    "# Imprimir los resultados óptimos\n",
    "print(f\"Mejor recall en CV: {rnd_search2.best_score_:.4f}\")    # Mejor recall promedio obtenido\n",
    "print(\"Mejores parámetros:\", rnd_search2.best_params_)        # Parámetros que alcanzaron ese recall\n"
   ]
  }
 ],
 "metadata": {
  "kernelspec": {
   "display_name": "Python 3 (ipykernel)",
   "language": "python",
   "name": "python3"
  },
  "language_info": {
   "codemirror_mode": {
    "name": "ipython",
    "version": 3
   },
   "file_extension": ".py",
   "mimetype": "text/x-python",
   "name": "python",
   "nbconvert_exporter": "python",
   "pygments_lexer": "ipython3",
   "version": "3.12.4"
  }
 },
 "nbformat": 4,
 "nbformat_minor": 5
}
